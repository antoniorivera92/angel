{
 "cells": [
  {
   "cell_type": "markdown",
   "metadata": {},
   "source": [
    "# Clase 1"
   ]
  },
  {
   "cell_type": "markdown",
   "metadata": {},
   "source": [
    "## Operaciones básicas"
   ]
  },
  {
   "cell_type": "markdown",
   "metadata": {},
   "source": [
    "### Suma o adición ($+$)"
   ]
  },
  {
   "cell_type": "markdown",
   "metadata": {},
   "source": [
    "* ***Ejemplo:***"
   ]
  },
  {
   "cell_type": "markdown",
   "metadata": {},
   "source": [
    "\\begin{align*}\n",
    "47896&\\\\\n",
    "+\\ 83924&\\\\\n",
    "\\underline{\\phantom{00}1785}&\\\\\n",
    "133605&\n",
    "\\end{align*}"
   ]
  },
  {
   "cell_type": "code",
   "execution_count": 1,
   "metadata": {},
   "outputs": [
    {
     "data": {
      "text/plain": [
       "133605"
      ]
     },
     "execution_count": 1,
     "metadata": {},
     "output_type": "execute_result"
    }
   ],
   "source": [
    "47896+83924+1785"
   ]
  },
  {
   "cell_type": "markdown",
   "metadata": {},
   "source": [
    "### Resta, diferencia o sustracción ($-$)"
   ]
  },
  {
   "cell_type": "markdown",
   "metadata": {},
   "source": [
    "\\begin{align*}\n",
    "987654&\\\\\n",
    "-\\ \\underline{234567}&\\\\\n",
    "753087&\n",
    "\\end{align*}"
   ]
  },
  {
   "cell_type": "code",
   "execution_count": 2,
   "metadata": {},
   "outputs": [
    {
     "data": {
      "text/plain": [
       "753087"
      ]
     },
     "execution_count": 2,
     "metadata": {},
     "output_type": "execute_result"
    }
   ],
   "source": [
    "987654-234567"
   ]
  },
  {
   "cell_type": "markdown",
   "metadata": {},
   "source": [
    "### Multiplicación o producto ($\\times$)"
   ]
  },
  {
   "cell_type": "markdown",
   "metadata": {},
   "source": [
    "\\begin{align*}\n",
    "4137&\\\\\n",
    "\\underline{\\times\\ 745}&\\\\\n",
    "20685&\\\\\n",
    "16548\\phantom{0}&\\\\\n",
    "\\underline{28959\\phantom{00}}&\\\\\n",
    "3082065&\n",
    "\\end{align*}"
   ]
  },
  {
   "cell_type": "code",
   "execution_count": 3,
   "metadata": {},
   "outputs": [
    {
     "data": {
      "text/plain": [
       "3082065"
      ]
     },
     "execution_count": 3,
     "metadata": {},
     "output_type": "execute_result"
    }
   ],
   "source": [
    "4137*745"
   ]
  },
  {
   "cell_type": "markdown",
   "metadata": {},
   "source": [
    "### División o cociente ($\\div$)"
   ]
  },
  {
   "cell_type": "markdown",
   "metadata": {},
   "source": [
    "\\begin{align*}\n",
    "\\phantom{120|07}629&\\\\\n",
    "12\\ \\overline{|\\ 7549}&\\\\\n",
    "\\underline{-72}\\phantom{00}&\\\\\n",
    "34\\phantom{0}&\\\\\n",
    "\\underline{-24}\\phantom{0}&\\\\\n",
    "109&\\\\\n",
    "\\underline{-108}&\\\\\n",
    "1\n",
    "\\end{align*}"
   ]
  },
  {
   "cell_type": "markdown",
   "metadata": {},
   "source": [
    "Al número que se encuentra arriba de la \"casita\" se le conoce como ***cociente***; al número que se encuentra a la izquierda de la \"casita\" se le conoce como ***divisor***; al número que se encuentra dentro de la \"casita\" se le conoce como ***dividendo***; al número que se encuentra hasta abajo del proceso de división se le conoce como ***residuo***."
   ]
  },
  {
   "cell_type": "markdown",
   "metadata": {},
   "source": [
    "$$\\dfrac{7549}{12}=629\\;\\dfrac{1}{12}$$"
   ]
  },
  {
   "cell_type": "markdown",
   "metadata": {},
   "source": [
    "### Potencia"
   ]
  },
  {
   "cell_type": "markdown",
   "metadata": {},
   "source": [
    "$$ 3^4=3\\cdot3\\cdot3\\cdot3=81 $$"
   ]
  },
  {
   "cell_type": "markdown",
   "metadata": {},
   "source": [
    "$$ 2^8=2\\cdot2\\cdot2\\cdot2\\cdot2\\cdot2\\cdot2\\cdot2=256 $$"
   ]
  },
  {
   "cell_type": "markdown",
   "metadata": {},
   "source": [
    "*El resultado de $3$ a la $4$ es equivalente a multiplicar el $3$ por sí mismo $4$ veces.*"
   ]
  },
  {
   "cell_type": "markdown",
   "metadata": {},
   "source": [
    "Al número que se encuentra en la posición del $3$ se le conoce como ***base***; al número que se encuentra arriba, a la derecha del $3$, se le conoce como ***exponente***; el resultado de esta operación se llama ***potencia***."
   ]
  },
  {
   "cell_type": "markdown",
   "metadata": {},
   "source": [
    "*El resultado de una potencia es equivalente a multiplicar la base por sí misma el número del exponente veces.*"
   ]
  },
  {
   "cell_type": "markdown",
   "metadata": {},
   "source": [
    "### Raíz o radicación ($\\sqrt{\\phantom{0}}$)"
   ]
  },
  {
   "cell_type": "markdown",
   "metadata": {},
   "source": [
    "$$ 3^4=3\\cdot3\\cdot3\\cdot3=81 $$"
   ]
  },
  {
   "cell_type": "markdown",
   "metadata": {},
   "source": [
    "$$ \\sqrt[4]{81}=3 $$"
   ]
  },
  {
   "cell_type": "markdown",
   "metadata": {},
   "source": [
    "*El resultado de raíz cuártica de $81$ es equivalente a preguntarse sobre el número que multiplicado por sí mismo $4$ veces es $81$.*"
   ]
  },
  {
   "cell_type": "markdown",
   "metadata": {},
   "source": [
    "$$ \\sqrt[4]{625}=5\\qquad\\text{o lo que es lo mismo}\\qquad 5^4=625 $$"
   ]
  },
  {
   "cell_type": "markdown",
   "metadata": {},
   "source": [
    "*El resultado de raíz cuártica de $625$ es equivalente a preguntarse sobre el número que multiplicado por sí mismo $4$ veces es $625$.*"
   ]
  },
  {
   "cell_type": "markdown",
   "metadata": {},
   "source": [
    "$$ \\sqrt[3]{8}=2 $$"
   ]
  },
  {
   "cell_type": "markdown",
   "metadata": {},
   "source": [
    "Al número que se encuentra arriba de la raíz, el $3$ en el caso anterior, se le conoce como ***radical***. A lo que está dentro de la raíz de le conoce como ***radicando***."
   ]
  },
  {
   "cell_type": "markdown",
   "metadata": {},
   "source": [
    "$$ \\sqrt[n]{a}=a^{1/n} $$"
   ]
  },
  {
   "cell_type": "markdown",
   "metadata": {},
   "source": [
    "$$ 8^{1/3}=\\sqrt[3]{8} $$"
   ]
  },
  {
   "cell_type": "markdown",
   "metadata": {},
   "source": [
    "## Operaciones básicas entre signos"
   ]
  },
  {
   "cell_type": "markdown",
   "metadata": {},
   "source": [
    "\\begin{align*}\n",
    "(+)(+)=(+)\\quad&\\quad(+)\\div(+)=(+)\\\\\n",
    "(-)(-)=(+)\\quad&\\quad(-)\\div(-)=(+)\\\\\n",
    "(+)(-)=(-)\\quad&\\quad(+)\\div(-)=(-)\\\\\n",
    "(-)(+)=(-)\\quad&\\quad(-)\\div(+)=(-)\\\\\n",
    "\\end{align*}"
   ]
  },
  {
   "cell_type": "markdown",
   "metadata": {},
   "source": [
    "* ***Ejemplo:***"
   ]
  },
  {
   "cell_type": "markdown",
   "metadata": {},
   "source": [
    "$$ (+8)(-4)=-32 $$"
   ]
  },
  {
   "cell_type": "markdown",
   "metadata": {},
   "source": [
    "$$ (+8)\\div(-4)=-2 $$"
   ]
  },
  {
   "cell_type": "markdown",
   "metadata": {},
   "source": [
    "$$\\circledast$$"
   ]
  },
  {
   "cell_type": "markdown",
   "metadata": {},
   "source": [
    "Entonces, obtenemos el mismo tipo de signo si multiplicamos o dividimos."
   ]
  },
  {
   "cell_type": "markdown",
   "metadata": {},
   "source": [
    "## Operaciones básicas con números positivos y negativos"
   ]
  },
  {
   "cell_type": "markdown",
   "metadata": {},
   "source": [
    "Un número positivo es un número de montones de arena. Un número negativo es un número de hoyos de arena. El cero es la playa (plano)."
   ]
  },
  {
   "cell_type": "markdown",
   "metadata": {},
   "source": [
    "* $1\\rightarrow\\cap$\n",
    "* $0\\rightarrow-$\n",
    "* $-1\\rightarrow\\cup$"
   ]
  },
  {
   "cell_type": "markdown",
   "metadata": {},
   "source": [
    "* ***Ejemplo:***"
   ]
  },
  {
   "cell_type": "markdown",
   "metadata": {},
   "source": [
    "$$3+4=7$$"
   ]
  },
  {
   "cell_type": "markdown",
   "metadata": {},
   "source": [
    "$$ (\\cap\\cap\\cap)+(\\cap\\cap\\cap\\cap)=\\cap\\cap\\cap\\cap\\cap\\cap\\cap $$"
   ]
  },
  {
   "cell_type": "markdown",
   "metadata": {},
   "source": [
    "$$\\circledast$$"
   ]
  },
  {
   "cell_type": "markdown",
   "metadata": {},
   "source": [
    "* ***Ejemplo:***"
   ]
  },
  {
   "cell_type": "markdown",
   "metadata": {},
   "source": [
    "$$3+(-2)=3-2=1$$"
   ]
  },
  {
   "cell_type": "markdown",
   "metadata": {},
   "source": [
    "$$ (\\cap\\cap\\cap)+(\\cup\\cup)=\\cap $$"
   ]
  },
  {
   "cell_type": "markdown",
   "metadata": {},
   "source": [
    "$$\\circledast$$"
   ]
  },
  {
   "cell_type": "markdown",
   "metadata": {},
   "source": [
    "* ***Ejemplo:***"
   ]
  },
  {
   "cell_type": "markdown",
   "metadata": {},
   "source": [
    "$$3+(-3)=3-3=0$$"
   ]
  },
  {
   "cell_type": "markdown",
   "metadata": {},
   "source": [
    "$$ (\\cap\\cap\\cap)+(\\cup\\cup\\cup)=(-) $$"
   ]
  },
  {
   "cell_type": "markdown",
   "metadata": {},
   "source": [
    "$$\\circledast$$"
   ]
  },
  {
   "cell_type": "markdown",
   "metadata": {},
   "source": [
    "* ***Ejemplo:***"
   ]
  },
  {
   "cell_type": "markdown",
   "metadata": {},
   "source": [
    "$$1+(-3)=1-3=-2 $$"
   ]
  },
  {
   "cell_type": "markdown",
   "metadata": {},
   "source": [
    "$$ (\\cap)+(\\cup\\cup\\cup)=(\\cup\\cup) $$"
   ]
  },
  {
   "cell_type": "markdown",
   "metadata": {},
   "source": [
    "$$\\circledast$$"
   ]
  },
  {
   "cell_type": "markdown",
   "metadata": {},
   "source": [
    "* ***Ejemplo:***"
   ]
  },
  {
   "cell_type": "markdown",
   "metadata": {},
   "source": [
    "$$-2+(-3)=-5$$"
   ]
  },
  {
   "cell_type": "markdown",
   "metadata": {},
   "source": [
    "$$ (\\cup\\cup)+(\\cup\\cup\\cup)=\\cup\\cup\\cup\\cup\\cup $$"
   ]
  },
  {
   "cell_type": "markdown",
   "metadata": {},
   "source": [
    "$$\\circledast$$"
   ]
  },
  {
   "cell_type": "markdown",
   "metadata": {},
   "source": [
    "## Operaciones básicas con fracciones"
   ]
  },
  {
   "cell_type": "markdown",
   "metadata": {},
   "source": [
    "\\begin{equation*}\n",
    "\\dfrac{a}{b}\\ {{\\leftarrow\\ \\text{numerador}\\phantom{or}}\\atop{\\leftarrow\\ \\text{denominador}}}\n",
    "\\end{equation*}"
   ]
  },
  {
   "cell_type": "markdown",
   "metadata": {},
   "source": [
    "* ***denominador*** porque denomina en cuántas partes partimos el pastel\n",
    "* ***numerador*** porque denomina cuántas partes tomamos (nos vamos a comer)."
   ]
  },
  {
   "cell_type": "markdown",
   "metadata": {},
   "source": [
    "### Simplificación y complicación de fracciones"
   ]
  },
  {
   "cell_type": "markdown",
   "metadata": {},
   "source": [
    "Una fracción es igual a otra si se multiplica el numerador y el denominador por un mismo número."
   ]
  },
  {
   "cell_type": "markdown",
   "metadata": {},
   "source": [
    "* ***Ejemplo:***"
   ]
  },
  {
   "cell_type": "markdown",
   "metadata": {},
   "source": [
    "$$ \\dfrac{5}{7}=\\dfrac{15}{21} $$"
   ]
  },
  {
   "cell_type": "markdown",
   "metadata": {},
   "source": [
    "$$\\circledast$$"
   ]
  },
  {
   "cell_type": "markdown",
   "metadata": {},
   "source": [
    "Una fracción es igual a otra si se divide el numerador y el denominador por un mismo número."
   ]
  },
  {
   "cell_type": "markdown",
   "metadata": {},
   "source": [
    "* ***Ejemplo:***"
   ]
  },
  {
   "cell_type": "markdown",
   "metadata": {},
   "source": [
    "$$ \\dfrac{144}{256}=\\dfrac{72}{128}=\\dfrac{36}{64}=\\dfrac{18}{32}=\\dfrac{9}{16}$$"
   ]
  },
  {
   "cell_type": "markdown",
   "metadata": {},
   "source": [
    "$$\\circledast$$"
   ]
  },
  {
   "cell_type": "markdown",
   "metadata": {},
   "source": [
    "### Suma o adición ($+$)"
   ]
  },
  {
   "cell_type": "markdown",
   "metadata": {},
   "source": [
    "$$ \\dfrac{a}{b}+\\dfrac{c}{d}=\\dfrac{ad+bc}{bd} $$"
   ]
  },
  {
   "cell_type": "markdown",
   "metadata": {},
   "source": [
    "**Nota importante:** para poder sumar o restar los numeradores de dos fracciones directamente (sus numeradores), es necesario que tengan el mismo denominador."
   ]
  },
  {
   "cell_type": "markdown",
   "metadata": {},
   "source": [
    "Si quieren ver otra forma de hacer suma de fracciones, les recomiendo revisar este vídeo corto:\n",
    "\n",
    "https://youtu.be/MQFTAGdVWjo"
   ]
  },
  {
   "cell_type": "markdown",
   "metadata": {},
   "source": [
    "* ***Ejemplo:***"
   ]
  },
  {
   "cell_type": "markdown",
   "metadata": {},
   "source": [
    "$$ \\dfrac{2}{7}+\\dfrac{4}{7}=\\dfrac{2+4}{7}=\\dfrac{6}{7} $$"
   ]
  },
  {
   "cell_type": "markdown",
   "metadata": {},
   "source": [
    "$$\\circledast$$"
   ]
  },
  {
   "cell_type": "markdown",
   "metadata": {},
   "source": [
    "* ***Ejemplo:***"
   ]
  },
  {
   "cell_type": "markdown",
   "metadata": {},
   "source": [
    "$$ \\dfrac{3}{5}+\\dfrac{1}{2}=\\dfrac{3\\cdot2+5\\cdot1}{5\\cdot2}=\\dfrac{11}{10} $$"
   ]
  },
  {
   "cell_type": "markdown",
   "metadata": {},
   "source": [
    "$$\\circledast$$"
   ]
  },
  {
   "cell_type": "markdown",
   "metadata": {},
   "source": [
    "### Resta, diferencia o sustracción ($-$)"
   ]
  },
  {
   "cell_type": "markdown",
   "metadata": {},
   "source": [
    "$$ \\dfrac{a}{b}-\\dfrac{c}{d}=\\dfrac{ad-bc}{bd} $$"
   ]
  },
  {
   "cell_type": "markdown",
   "metadata": {},
   "source": [
    "Si quieren ver otra forma de hacer resta de fracciones, les recomiendo revisar este vídeo corto:\n",
    "\n",
    "https://youtu.be/_-piXiAuRT8"
   ]
  },
  {
   "cell_type": "markdown",
   "metadata": {},
   "source": [
    "* ***Ejemplo:***"
   ]
  },
  {
   "cell_type": "markdown",
   "metadata": {},
   "source": [
    "$$ \\dfrac{3}{5}-\\dfrac{1}{2}=\\dfrac{3\\cdot2-5\\cdot1}{5\\cdot2}=\\dfrac{1}{10} $$"
   ]
  },
  {
   "cell_type": "markdown",
   "metadata": {},
   "source": [
    "$$\\circledast$$"
   ]
  },
  {
   "cell_type": "markdown",
   "metadata": {},
   "source": [
    "* ***Ejemplo:***"
   ]
  },
  {
   "cell_type": "markdown",
   "metadata": {},
   "source": [
    "$$ \\dfrac{4}{7}-\\dfrac{5}{2}=\\dfrac{8}{14}-\\dfrac{35}{14}=\\dfrac{-27}{14}$$"
   ]
  },
  {
   "cell_type": "markdown",
   "metadata": {},
   "source": [
    "$$\\circledast$$"
   ]
  },
  {
   "cell_type": "markdown",
   "metadata": {},
   "source": [
    "El signo menos se lo queda el numerador de la fracción negativa o la fracción que está restando."
   ]
  },
  {
   "cell_type": "markdown",
   "metadata": {},
   "source": [
    "### Multiplicación o producto ($\\times$)"
   ]
  },
  {
   "cell_type": "markdown",
   "metadata": {},
   "source": [
    "Esto es directo: el resultado el producto de los numeradores en el numerador y el el producto de los denominadores en el denominador."
   ]
  },
  {
   "cell_type": "markdown",
   "metadata": {},
   "source": [
    "$$ \\dfrac{a}{b}\\cdot\\dfrac{c}{d}=\\dfrac{ac}{bd} $$"
   ]
  },
  {
   "cell_type": "markdown",
   "metadata": {},
   "source": [
    "* ***Ejemplo:***"
   ]
  },
  {
   "cell_type": "markdown",
   "metadata": {},
   "source": [
    "$$ \\dfrac{3}{5}\\cdot\\dfrac{10}{81}=\\dfrac{3\\cdot10}{5\\cdot81}=\\dfrac{30}{405}=\\dfrac{10}{135}=\\dfrac{2}{27}$$"
   ]
  },
  {
   "cell_type": "markdown",
   "metadata": {},
   "source": [
    "$$\\circledast$$"
   ]
  },
  {
   "cell_type": "markdown",
   "metadata": {},
   "source": [
    "Si quieren ver otra forma de hacer multiplicación de fracciones, les recomiendo revisar este vídeo corto:\n",
    "\n",
    "https://youtu.be/6w-zqXPip3s"
   ]
  },
  {
   "cell_type": "markdown",
   "metadata": {},
   "source": [
    "### División o cociente ($\\div$)"
   ]
  },
  {
   "cell_type": "markdown",
   "metadata": {},
   "source": [
    "$$ \\dfrac{a}{b}\\div\\dfrac{c}{d}=\\dfrac{\\dfrac{a}{b}}{\\dfrac{c}{d}}=\\dfrac{ad}{bc} $$"
   ]
  },
  {
   "cell_type": "markdown",
   "metadata": {},
   "source": [
    "$$ \\dfrac{a}{b}\\div\\dfrac{c}{d}=\\dfrac{a}{b}\\cdot\\dfrac{d}{c}=\\dfrac{ad}{bc} $$"
   ]
  },
  {
   "cell_type": "markdown",
   "metadata": {},
   "source": [
    "Si quieren ver otra forma de hacer división de fracciones, les recomiendo revisar este vídeo corto:\n",
    "\n",
    "https://youtu.be/o4xoVTKRpgo"
   ]
  },
  {
   "cell_type": "markdown",
   "metadata": {},
   "source": [
    "* ***Ejemplo:***"
   ]
  },
  {
   "cell_type": "markdown",
   "metadata": {},
   "source": [
    "$$\\circledast$$"
   ]
  },
  {
   "cell_type": "markdown",
   "metadata": {},
   "source": [
    "## Propiedades de las operaciones"
   ]
  },
  {
   "cell_type": "markdown",
   "metadata": {},
   "source": [
    "### Suma o adición ($+$)"
   ]
  },
  {
   "cell_type": "markdown",
   "metadata": {},
   "source": [
    "* **Conmutativa:**\n",
    "$$ a+b=b+a $$"
   ]
  },
  {
   "cell_type": "markdown",
   "metadata": {},
   "source": [
    "* ***Ejemplo:***"
   ]
  },
  {
   "cell_type": "markdown",
   "metadata": {},
   "source": [
    "$$ 3+5=5+3 $$"
   ]
  },
  {
   "cell_type": "markdown",
   "metadata": {},
   "source": [
    "$$\\circledast$$"
   ]
  },
  {
   "cell_type": "markdown",
   "metadata": {},
   "source": [
    "* **Asociativa:**\n",
    "$$ (a+b)+c=a+(b+c) $$"
   ]
  },
  {
   "cell_type": "markdown",
   "metadata": {},
   "source": [
    "* ***Ejemplo:***"
   ]
  },
  {
   "cell_type": "markdown",
   "metadata": {},
   "source": [
    "$$ 12=7+5=(3+4)+5=3+(4+5)=3+9=12 $$"
   ]
  },
  {
   "cell_type": "markdown",
   "metadata": {},
   "source": [
    "$$\\circledast$$"
   ]
  },
  {
   "cell_type": "markdown",
   "metadata": {},
   "source": [
    "* **Neutro aditivo, $0$:**\n",
    "$$ a+0=a $$"
   ]
  },
  {
   "cell_type": "markdown",
   "metadata": {},
   "source": [
    "* ***Ejemplo:***"
   ]
  },
  {
   "cell_type": "markdown",
   "metadata": {},
   "source": [
    "$$ 9+0=9 $$"
   ]
  },
  {
   "cell_type": "markdown",
   "metadata": {},
   "source": [
    "$$\\circledast$$"
   ]
  },
  {
   "cell_type": "markdown",
   "metadata": {},
   "source": [
    "### Multiplicación o producto ($\\cdot$)"
   ]
  },
  {
   "cell_type": "markdown",
   "metadata": {},
   "source": [
    "* **Conmutativa:**\n",
    "$$ ab=ba $$"
   ]
  },
  {
   "cell_type": "markdown",
   "metadata": {},
   "source": [
    "* ***Ejemplo:***"
   ]
  },
  {
   "cell_type": "markdown",
   "metadata": {},
   "source": [
    "$$ 15=3\\cdot5=5\\cdot3=15 $$"
   ]
  },
  {
   "cell_type": "markdown",
   "metadata": {},
   "source": [
    "$$\\circledast$$"
   ]
  },
  {
   "cell_type": "markdown",
   "metadata": {},
   "source": [
    "* **Asociativa:**\n",
    "$$ (ab)c=a(bc) $$"
   ]
  },
  {
   "cell_type": "markdown",
   "metadata": {},
   "source": [
    "* ***Ejemplo:***"
   ]
  },
  {
   "cell_type": "markdown",
   "metadata": {},
   "source": [
    "$$ 60=12\\cdot5=(3\\cdot4)5=3(4\\cdot5) $$"
   ]
  },
  {
   "cell_type": "markdown",
   "metadata": {},
   "source": [
    "$$\\circledast$$"
   ]
  },
  {
   "cell_type": "markdown",
   "metadata": {},
   "source": [
    "* **Neutro multiplicativo, $1$:**\n",
    "$$ a\\cdot1=a $$"
   ]
  },
  {
   "cell_type": "markdown",
   "metadata": {},
   "source": [
    "* ***Ejemplo:***"
   ]
  },
  {
   "cell_type": "markdown",
   "metadata": {},
   "source": [
    "$$ 7\\cdot1=7 $$"
   ]
  },
  {
   "cell_type": "markdown",
   "metadata": {},
   "source": [
    "$$\\circledast$$"
   ]
  },
  {
   "cell_type": "markdown",
   "metadata": {},
   "source": [
    "### Suma y multiplicación"
   ]
  },
  {
   "cell_type": "markdown",
   "metadata": {},
   "source": [
    "* **Distributividad:**\n",
    "$$ a(b+c)=ab+ac $$"
   ]
  },
  {
   "cell_type": "markdown",
   "metadata": {},
   "source": [
    "* ***Ejemplo:***"
   ]
  },
  {
   "cell_type": "markdown",
   "metadata": {},
   "source": [
    "$$ 20=4\\cdot5=4(2+3)=4\\cdot2+4\\cdot3=8+12=20 $$"
   ]
  },
  {
   "cell_type": "markdown",
   "metadata": {},
   "source": [
    "$$\\circledast$$"
   ]
  },
  {
   "cell_type": "markdown",
   "metadata": {},
   "source": [
    "* ***Ejemplo:***"
   ]
  },
  {
   "cell_type": "markdown",
   "metadata": {},
   "source": [
    "$$\\dfrac{1}{4}(4+8)=\\dfrac{1}{4}\\cdot4+\\dfrac{1}{4}\\cdot8 $$"
   ]
  },
  {
   "cell_type": "markdown",
   "metadata": {},
   "source": [
    "$$\\circledast$$"
   ]
  },
  {
   "cell_type": "markdown",
   "metadata": {},
   "source": [
    "### Potencia"
   ]
  },
  {
   "cell_type": "markdown",
   "metadata": {},
   "source": [
    " * $ a^m a^n=a^{m+n} $\n"
   ]
  },
  {
   "cell_type": "markdown",
   "metadata": {},
   "source": [
    "* ***Ejemplo:***"
   ]
  },
  {
   "cell_type": "markdown",
   "metadata": {},
   "source": [
    "$$ 2^3\\cdot2^4=2^{3+4} $$"
   ]
  },
  {
   "cell_type": "markdown",
   "metadata": {},
   "source": [
    "$$\\circledast$$"
   ]
  },
  {
   "cell_type": "markdown",
   "metadata": {},
   "source": [
    " * $ (a^m)^n=a^{mn} $"
   ]
  },
  {
   "cell_type": "markdown",
   "metadata": {},
   "source": [
    "* ***Ejemplo:***"
   ]
  },
  {
   "cell_type": "markdown",
   "metadata": {},
   "source": [
    "$$ (2^3)^3=2^{3\\cdot3} $$"
   ]
  },
  {
   "cell_type": "markdown",
   "metadata": {},
   "source": [
    "$$\\circledast$$"
   ]
  },
  {
   "cell_type": "markdown",
   "metadata": {},
   "source": [
    " * $ (ab)^n=a^nb^n $"
   ]
  },
  {
   "cell_type": "markdown",
   "metadata": {},
   "source": [
    "* ***Ejemplo:***"
   ]
  },
  {
   "cell_type": "markdown",
   "metadata": {},
   "source": [
    "$$ (2\\cdot3)^4=2^4\\cdot3^4 $$"
   ]
  },
  {
   "cell_type": "markdown",
   "metadata": {},
   "source": [
    "$$\\circledast$$"
   ]
  },
  {
   "cell_type": "markdown",
   "metadata": {},
   "source": [
    "* ***Ejemplo:***"
   ]
  },
  {
   "cell_type": "markdown",
   "metadata": {},
   "source": [
    "$$ 2^4\\cdot3^4=16\\cdot81 $$"
   ]
  },
  {
   "cell_type": "markdown",
   "metadata": {},
   "source": [
    "$$\\circledast$$"
   ]
  },
  {
   "cell_type": "markdown",
   "metadata": {},
   "source": [
    "De estas tres leyes salen otros resultados interesantes. Por ejemplo:\n",
    " * $ a^0=1 $ \n",
    " * $ a^{-n}=\\dfrac{1}{a^n} $\n",
    " * $ a^{\\dfrac{1}{n}}=\\sqrt[n]{a} $\n",
    " * $ \\dfrac{a^m}{a^n}=a^{m-n} $"
   ]
  },
  {
   "cell_type": "markdown",
   "metadata": {},
   "source": [
    "* ***Ejemplo:***"
   ]
  },
  {
   "cell_type": "markdown",
   "metadata": {},
   "source": [
    "$$ 8^{\\frac{2}{3}}=\\left(8^{\\frac{1}{3}}\\right)^2=\\left(\\sqrt[3]{8}\\right)^2=\\left(2\\right)^2=4 $$"
   ]
  },
  {
   "cell_type": "markdown",
   "metadata": {},
   "source": [
    "$$\\circledast$$"
   ]
  },
  {
   "cell_type": "markdown",
   "metadata": {},
   "source": [
    "* $ \\sqrt[n]{ab}=\\sqrt[n]{a}\\sqrt[n]{b} $"
   ]
  },
  {
   "cell_type": "markdown",
   "metadata": {},
   "source": [
    "* ***Ejemplo:***"
   ]
  },
  {
   "cell_type": "markdown",
   "metadata": {},
   "source": [
    "$$ 12=\\sqrt[2]{144}=\\sqrt[2]{9}\\sqrt[2]{16}=3\\cdot4 $$"
   ]
  },
  {
   "cell_type": "markdown",
   "metadata": {},
   "source": [
    "$$\\circledast$$"
   ]
  },
  {
   "cell_type": "markdown",
   "metadata": {},
   "source": [
    "## Jerarquía de operaciones"
   ]
  },
  {
   "cell_type": "markdown",
   "metadata": {},
   "source": [
    "### Reglas de jerarquía"
   ]
  },
  {
   "cell_type": "markdown",
   "metadata": {},
   "source": [
    "1. Nos fijamos en el paréntesis más \"anidado\" (más adentro). El orden de los paréntesis es\n",
    " $$ \\{\\ [\\ (\\quad)\\ ]\\ \\} $$\n",
    " Los nombres de cada uno son:\n",
    "     * $\\{\\quad\\}:$ llaves,\n",
    "     * $[\\quad]:$ corchetes,\n",
    "     * $(\\quad):$ paréntesis.\n",
    "2. Resolvemos lo que esté dentro del paréntesis, haciendo las operaciones en el siguiente orden:\n",
    "     * potencias y radicales,\n",
    "     * multiplicación y división, y\n",
    "     * suma y resta.\n",
    "3. Al terminar de realizar las operaciones, el paréntesis desaparece y podemos operar lo que se encuentra en el siguiente paréntesis."
   ]
  },
  {
   "cell_type": "markdown",
   "metadata": {},
   "source": [
    "* ***Ejemplo:***"
   ]
  },
  {
   "cell_type": "markdown",
   "metadata": {},
   "source": [
    "$$ 3\\{4-[6\\cdot2^2(9-5)+1]\\} $$"
   ]
  },
  {
   "cell_type": "markdown",
   "metadata": {},
   "source": [
    "$$\\circledast$$"
   ]
  },
  {
   "cell_type": "markdown",
   "metadata": {},
   "source": [
    "* ***Ejemplo:***"
   ]
  },
  {
   "cell_type": "markdown",
   "metadata": {},
   "source": [
    "$$ 1+3\\cdot2^3\\div2-3\\cdot3-5(4+3) $$"
   ]
  },
  {
   "cell_type": "markdown",
   "metadata": {},
   "source": [
    "$$\\circledast$$"
   ]
  }
 ],
 "metadata": {
  "@webio": {
   "lastCommId": null,
   "lastKernelId": null
  },
  "kernelspec": {
   "display_name": "Julia 1.5.0",
   "language": "julia",
   "name": "julia-1.5"
  },
  "language_info": {
   "file_extension": ".jl",
   "mimetype": "application/julia",
   "name": "julia",
   "version": "1.5.0"
  }
 },
 "nbformat": 4,
 "nbformat_minor": 4
}
